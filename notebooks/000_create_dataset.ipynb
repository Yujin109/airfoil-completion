{
 "cells": [
  {
   "cell_type": "code",
   "execution_count": 1,
   "metadata": {},
   "outputs": [
    {
     "name": "stdout",
     "output_type": "stream",
     "text": [
      "/Users/kiwifern/Development/airfoil-completion\n"
     ]
    },
    {
     "name": "stderr",
     "output_type": "stream",
     "text": [
      "/Users/kiwifern/Development/airfoil-completion/.venv/lib/python3.10/site-packages/IPython/core/magics/osm.py:417: UserWarning: This is now an optional IPython functionality, setting dhist requires you to install the `pickleshare` library.\n",
      "  self.shell.db['dhist'] = compress_dhist(dhist)[-100:]\n"
     ]
    }
   ],
   "source": [
    "%cd .."
   ]
  },
  {
   "cell_type": "markdown",
   "metadata": {},
   "source": [
    "### Create Dataset"
   ]
  },
  {
   "cell_type": "code",
   "execution_count": 2,
   "metadata": {},
   "outputs": [],
   "source": [
    "import numpy as np\n",
    "import pandas as pd\n",
    "from tqdm import tqdm"
   ]
  },
  {
   "cell_type": "code",
   "execution_count": 3,
   "metadata": {},
   "outputs": [],
   "source": [
    "from xfoil import XFoil\n",
    "from xfoil.model import Airfoil\n",
    "\n",
    "\n",
    "def get_cl(coord, xf=None, angle=5):\n",
    "    \"\"\"\n",
    "    Args:\n",
    "        coord (np.array): 翼型の座標. shapeは(2,248).\n",
    "        xf (XFoil, optional): XFoilのインスタンス. Defaults to None.\n",
    "        angle (int, optional): 迎角. Defaults to 5.\n",
    "    Returns:\n",
    "        _type_: _description_\n",
    "    \"\"\"\n",
    "    if xf is None:\n",
    "        xf = XFoil()\n",
    "        xf.print = False\n",
    "\n",
    "    xf.Re = 3e6\n",
    "    xf.max_iter = 100\n",
    "    datax, datay = coord.reshape(2, -1)  # 念の為reshape\n",
    "    xf.airfoil = Airfoil(x=datax, y=datay)\n",
    "    c = xf.a(angle)\n",
    "    cl = c[0]\n",
    "    cl = np.round(cl, 10)\n",
    "    return cl"
   ]
  },
  {
   "cell_type": "code",
   "execution_count": 3,
   "metadata": {},
   "outputs": [],
   "source": [
    "naca_array = np.load(\"./dataset/prev-study/NACA_coords.npy\")\n",
    "naca_perfs = np.load(\"./dataset/prev-study/NACA_perfs.npy\")\n",
    "\n",
    "condition = (naca_perfs[:, 1] >= 0.5) & (naca_perfs[:, 1] <= 1.2)\n",
    "naca_array_filtered = naca_array[condition]\n",
    "naca_perfs = naca_perfs[condition]"
   ]
  },
  {
   "cell_type": "code",
   "execution_count": 4,
   "metadata": {},
   "outputs": [],
   "source": [
    "juko_array = np.load(\"./dataset/prev-study/juko_array.npy\")\n",
    "juko_perfs = np.load(\"./dataset/prev-study/juko_CLCD.npy\")\n",
    "juko_array_reducted = juko_array[::2]\n",
    "juko_perfs_reducted = juko_perfs[::2]"
   ]
  },
  {
   "cell_type": "code",
   "execution_count": 5,
   "metadata": {},
   "outputs": [],
   "source": [
    "coords = np.concatenate((naca_array_filtered, juko_array_reducted), axis=0)\n",
    "perfs = np.concatenate((naca_perfs, juko_perfs_reducted), axis=0)\n",
    "assert coords.shape[0] == perfs.shape[0]"
   ]
  },
  {
   "cell_type": "code",
   "execution_count": 6,
   "metadata": {},
   "outputs": [
    {
     "name": "stderr",
     "output_type": "stream",
     "text": [
      "100%|██████████| 3767/3767 [00:00<00:00, 707977.92it/s]\n"
     ]
    }
   ],
   "source": [
    "records = []\n",
    "for i in tqdm(range(coords.shape[0])): \n",
    "    records.append({\"coord\": coords[i].reshape(2,-1), \"cl\": perfs[i][1]})"
   ]
  },
  {
   "cell_type": "code",
   "execution_count": 7,
   "metadata": {},
   "outputs": [
    {
     "data": {
      "text/html": [
       "<div>\n",
       "<style scoped>\n",
       "    .dataframe tbody tr th:only-of-type {\n",
       "        vertical-align: middle;\n",
       "    }\n",
       "\n",
       "    .dataframe tbody tr th {\n",
       "        vertical-align: top;\n",
       "    }\n",
       "\n",
       "    .dataframe thead th {\n",
       "        text-align: right;\n",
       "    }\n",
       "</style>\n",
       "<table border=\"1\" class=\"dataframe\">\n",
       "  <thead>\n",
       "    <tr style=\"text-align: right;\">\n",
       "      <th></th>\n",
       "      <th>coord</th>\n",
       "      <th>cl</th>\n",
       "    </tr>\n",
       "  </thead>\n",
       "  <tbody>\n",
       "    <tr>\n",
       "      <th>0</th>\n",
       "      <td>[[1.0, 0.9998008914, 0.9995854895, 0.999351160...</td>\n",
       "      <td>0.565521</td>\n",
       "    </tr>\n",
       "    <tr>\n",
       "      <th>1</th>\n",
       "      <td>[[1.0, 0.9998011477, 0.9995860601, 0.999352042...</td>\n",
       "      <td>0.560380</td>\n",
       "    </tr>\n",
       "    <tr>\n",
       "      <th>2</th>\n",
       "      <td>[[1.0, 0.999801427, 0.9995866827, 0.9993530051...</td>\n",
       "      <td>0.556866</td>\n",
       "    </tr>\n",
       "    <tr>\n",
       "      <th>3</th>\n",
       "      <td>[[1.0, 0.9998017289, 0.9995873566, 0.999354048...</td>\n",
       "      <td>0.553800</td>\n",
       "    </tr>\n",
       "    <tr>\n",
       "      <th>4</th>\n",
       "      <td>[[1.0, 0.9998020531, 0.9995880809, 0.99935517,...</td>\n",
       "      <td>0.550643</td>\n",
       "    </tr>\n",
       "    <tr>\n",
       "      <th>...</th>\n",
       "      <td>...</td>\n",
       "      <td>...</td>\n",
       "    </tr>\n",
       "    <tr>\n",
       "      <th>3762</th>\n",
       "      <td>[[0.975888801765026, 0.9730030382867585, 0.969...</td>\n",
       "      <td>0.651886</td>\n",
       "    </tr>\n",
       "    <tr>\n",
       "      <th>3763</th>\n",
       "      <td>[[0.9759899519714701, 0.973115741570424, 0.970...</td>\n",
       "      <td>0.644636</td>\n",
       "    </tr>\n",
       "    <tr>\n",
       "      <th>3764</th>\n",
       "      <td>[[0.9760907785262438, 0.973228090364221, 0.970...</td>\n",
       "      <td>0.631992</td>\n",
       "    </tr>\n",
       "    <tr>\n",
       "      <th>3765</th>\n",
       "      <td>[[0.9761912828106184, 0.9733400861306069, 0.97...</td>\n",
       "      <td>0.615084</td>\n",
       "    </tr>\n",
       "    <tr>\n",
       "      <th>3766</th>\n",
       "      <td>[[0.9762914661986267, 0.9734517303248253, 0.97...</td>\n",
       "      <td>0.606829</td>\n",
       "    </tr>\n",
       "  </tbody>\n",
       "</table>\n",
       "<p>3767 rows × 2 columns</p>\n",
       "</div>"
      ],
      "text/plain": [
       "                                                  coord        cl\n",
       "0     [[1.0, 0.9998008914, 0.9995854895, 0.999351160...  0.565521\n",
       "1     [[1.0, 0.9998011477, 0.9995860601, 0.999352042...  0.560380\n",
       "2     [[1.0, 0.999801427, 0.9995866827, 0.9993530051...  0.556866\n",
       "3     [[1.0, 0.9998017289, 0.9995873566, 0.999354048...  0.553800\n",
       "4     [[1.0, 0.9998020531, 0.9995880809, 0.99935517,...  0.550643\n",
       "...                                                 ...       ...\n",
       "3762  [[0.975888801765026, 0.9730030382867585, 0.969...  0.651886\n",
       "3763  [[0.9759899519714701, 0.973115741570424, 0.970...  0.644636\n",
       "3764  [[0.9760907785262438, 0.973228090364221, 0.970...  0.631992\n",
       "3765  [[0.9761912828106184, 0.9733400861306069, 0.97...  0.615084\n",
       "3766  [[0.9762914661986267, 0.9734517303248253, 0.97...  0.606829\n",
       "\n",
       "[3767 rows x 2 columns]"
      ]
     },
     "execution_count": 7,
     "metadata": {},
     "output_type": "execute_result"
    }
   ],
   "source": [
    "df = pd.DataFrame(records).dropna(subset=[\"cl\"]).reset_index(drop=True)\n",
    "df"
   ]
  },
  {
   "cell_type": "code",
   "execution_count": 8,
   "metadata": {},
   "outputs": [],
   "source": [
    "# --- 配列化・標準化 ---\n",
    "coords_stack = np.stack(df[\"coord\"].values)  # shape: (N, 2, 248)\n",
    "cl_array = df[\"cl\"].values.astype(np.float32)\n",
    "\n",
    "coord_mean = coords_stack.mean(axis=0)  # shape: (2, 248)\n",
    "coord_std = coords_stack.std(axis=0)\n",
    "cl_mean = cl_array.mean()\n",
    "cl_std = cl_array.std()\n",
    "\n",
    "# --- 保存（接頭辞つき）---\n",
    "np.save(\"./dataset/NACA&Joukowski_coords_array.npy\", coords_stack)\n",
    "np.save(\"./dataset/NACA&Joukowski_cl_array.npy\", cl_array)\n",
    "np.savez(\n",
    "    \"./dataset/NACA&Joukowski_normalization_stats.npz\",\n",
    "    coord_mean=coord_mean,\n",
    "    coord_std=coord_std,\n",
    "    cl_mean=np.array([cl_mean]),\n",
    "    cl_std=np.array([cl_std]),\n",
    ")"
   ]
  },
  {
   "cell_type": "code",
   "execution_count": null,
   "metadata": {},
   "outputs": [
    {
     "name": "stderr",
     "output_type": "stream",
     "text": [
      "100%|██████████| 3696/3696 [24:04<00:00,  2.56it/s]   \n"
     ]
    }
   ],
   "source": [
    "# cl_s = []\n",
    "# for array in tqdm(naca_array):\n",
    "#     cl = get_cl(array)\n",
    "#     cl_s.append(cl)\n",
    "# cl_s = np.array(cl_s)\n",
    "\n",
    "# # 24min for 3696 samples\n",
    "\n",
    "# np.save(\"dataset_hscvae/NACA_cls_calculated_by_xfoil_python_20250412.npy\", cl_s)"
   ]
  },
  {
   "cell_type": "markdown",
   "metadata": {},
   "source": [
    "### Pytorch Dataset"
   ]
  },
  {
   "cell_type": "code",
   "execution_count": 9,
   "metadata": {},
   "outputs": [],
   "source": [
    "import torch\n",
    "import numpy as np\n",
    "\n",
    "\n",
    "# ============================================================\n",
    "# 3. データローダー (AirfoilDataset) の読み込み\n",
    "# ============================================================\n",
    "class AirfoilDataset(torch.utils.data.Dataset):\n",
    "    def __init__(\n",
    "        self,\n",
    "        coord_path=\"./dataset/NACA&Joukowski_coords_array.npy\",\n",
    "        cl_path=\"./dataset/NACA&Joukowski_cl_array.npy\",\n",
    "        norm_path=\"./dataset/NACA&Joukowski_normalization_stats.npz\",\n",
    "        normalize=True,\n",
    "    ):\n",
    "        coords_array = np.load(coord_path).astype(np.float32)  # shape: (N, 2, 248)\n",
    "        cls_array = np.load(cl_path).astype(np.float32)[:, np.newaxis]  # shape: (N, 1)\n",
    "\n",
    "        norm = np.load(norm_path)\n",
    "        self.coord_mean = norm[\"coord_mean\"]\n",
    "        self.coord_std = norm[\"coord_std\"]\n",
    "        self.cl_mean = norm[\"cl_mean\"][0]\n",
    "        self.cl_std = norm[\"cl_std\"][0]\n",
    "\n",
    "        if normalize:\n",
    "            coords_array = (coords_array - self.coord_mean) / self.coord_std\n",
    "            cls_array = (cls_array - self.cl_mean) / self.cl_std\n",
    "\n",
    "        self.coords_tensor = torch.tensor(coords_array, dtype=torch.float32)\n",
    "        self.cls_tensor = torch.tensor(cls_array, dtype=torch.float32)\n",
    "        self.normalize = normalize\n",
    "\n",
    "    def __len__(self):\n",
    "        return self.coords_tensor.shape[0]\n",
    "\n",
    "    def __getitem__(self, idx):\n",
    "        return self.coords_tensor[idx], self.cls_tensor[idx]\n",
    "\n",
    "    def denormalize_coord(self, coord_tensor):\n",
    "        std = torch.tensor(self.coord_std, dtype=torch.float32, device=coord_tensor.device)\n",
    "        mean = torch.tensor(self.coord_mean, dtype=torch.float32, device=coord_tensor.device)\n",
    "        return coord_tensor * std + mean\n",
    "\n",
    "    def normalize_cl(self, cl_tensor):\n",
    "        std = torch.tensor(self.cl_std, dtype=torch.float32, device=cl_tensor.device)\n",
    "        mean = torch.tensor(self.cl_mean, dtype=torch.float32, device=cl_tensor.device)\n",
    "        return (cl_tensor - mean) / std\n",
    "\n",
    "    def denormalize_cl(self, cl_tensor):\n",
    "        std = torch.tensor(self.cl_std, dtype=torch.float32, device=cl_tensor.device)\n",
    "        mean = torch.tensor(self.cl_mean, dtype=torch.float32, device=cl_tensor.device)\n",
    "        return cl_tensor * std + mean"
   ]
  },
  {
   "cell_type": "code",
   "execution_count": 10,
   "metadata": {},
   "outputs": [
    {
     "name": "stdout",
     "output_type": "stream",
     "text": [
      "torch.Size([32, 2, 248])\n",
      "torch.Size([32, 1])\n"
     ]
    }
   ],
   "source": [
    "from torch.utils.data import DataLoader\n",
    "\n",
    "dataset = AirfoilDataset(normalize=True)\n",
    "\n",
    "loader = DataLoader(dataset, batch_size=32)\n",
    "\n",
    "for x, y in loader:\n",
    "    print(x.shape)  # torch.Size([32, 2, 248])\n",
    "    print(y.shape)  # torch.Size([32, 1])\n",
    "    break\n",
    "\n",
    "# 復元\n",
    "x0_denorm = dataset.denormalize_coord(x[0])  # → shape (2, 248)\n",
    "y0_denorm = dataset.denormalize_cl(y[0])  # → float or shape (1,)"
   ]
  },
  {
   "cell_type": "code",
   "execution_count": null,
   "metadata": {},
   "outputs": [],
   "source": []
  }
 ],
 "metadata": {
  "kernelspec": {
   "display_name": ".venv",
   "language": "python",
   "name": "python3"
  },
  "language_info": {
   "codemirror_mode": {
    "name": "ipython",
    "version": 3
   },
   "file_extension": ".py",
   "mimetype": "text/x-python",
   "name": "python",
   "nbconvert_exporter": "python",
   "pygments_lexer": "ipython3",
   "version": "3.10.16"
  }
 },
 "nbformat": 4,
 "nbformat_minor": 2
}
